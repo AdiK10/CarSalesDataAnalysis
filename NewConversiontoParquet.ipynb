{
 "cells": [
  {
   "cell_type": "code",
   "execution_count": 0,
   "metadata": {
    "application/vnd.databricks.v1+cell": {
     "cellMetadata": {
      "byteLimit": 2048000,
      "rowLimit": 10000
     },
     "inputWidgets": {},
     "nuid": "92e2fe3c-66b5-4ee7-8cd3-114364da0772",
     "showTitle": false,
     "title": ""
    }
   },
   "outputs": [],
   "source": [
    "import json\n",
    "# Configuration\n",
    "\n",
    "storage_account_name = \"storagessample\"\n",
    "container_name = \"intermediatedata\"\n",
    "storage_account_key = \"ogqJCBwZUE5xb1H6bmjvYH3xSQeULXfqf8EwbfRj3UP8JLHeVPMNbosEUPrQw3YmZmhBqjdN9u8p+ASthYAyMg==\"\n",
    "\n",
    "# Set Spark configuration for accessing the storage account\n",
    "spark.conf.set(f\"fs.azure.account.key.{storage_account_name}.blob.core.windows.net\", storage_account_key)\n",
    "\n",
    "newoutput_directory = f\"wasbs://{container_name}@{storage_account_name}.blob.core.windows.net/new_delta_tablesfinal/\"\n",
    "permanent_table_locationfinal= newoutput_directory + \"sales_activity_monthlyn15\"\n",
    "parquet_output_path = f\"wasbs://{container_name}@{storage_account_name}.blob.core.windows.net/intermediate_parquetfinal/sales_activityfinal.parquet\"\n",
    "\n",
    "# Read the Delta table\n",
    "df = spark.read.format(\"delta\").load(permanent_table_locationfinal)\n",
    "\n",
    "# Write DataFrame to Parquet\n",
    "df.write.mode(\"overwrite\").parquet(parquet_output_path)\n",
    "\n",
    "# Debugging: Verify the Parquet file is created\n",
    "files = dbutils.fs.ls(parquet_output_path)\n",
    "if len(files) == 0:\n",
    "    raise Exception(\"Parquet file was not created\")\n",
    "#/container_name/filepath/filename.parquet\n",
    "# Output the Parquet file path\n",
    "parquet_file_path = f\"/{container_name}/intermediate_parquetfinal/sales_activityfinal.parquet\"\n",
    "dbutils.notebook.exit(json.dumps({\"parquetOutputPath\": parquet_file_path}))\n"
   ]
  },
  {
   "cell_type": "code",
   "execution_count": 0,
   "metadata": {
    "application/vnd.databricks.v1+cell": {
     "cellMetadata": {},
     "inputWidgets": {},
     "nuid": "c5ea3b26-21b3-4a95-a379-f5bd382dd8d8",
     "showTitle": false,
     "title": ""
    }
   },
   "outputs": [],
   "source": []
  }
 ],
 "metadata": {
  "application/vnd.databricks.v1+notebook": {
   "dashboards": [],
   "environmentMetadata": null,
   "language": "python",
   "notebookMetadata": {
    "pythonIndentUnit": 4
   },
   "notebookName": "NewConversiontoParquet",
   "widgets": {}
  }
 },
 "nbformat": 4,
 "nbformat_minor": 0
}
