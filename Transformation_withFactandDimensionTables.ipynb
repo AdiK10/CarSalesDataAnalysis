{
 "cells": [
  {
   "cell_type": "code",
   "execution_count": 0,
   "metadata": {
    "application/vnd.databricks.v1+cell": {
     "cellMetadata": {
      "byteLimit": 2048000,
      "rowLimit": 10000
     },
     "inputWidgets": {},
     "nuid": "37b778cb-fa0d-410c-b7a7-cec0c33815a4",
     "showTitle": false,
     "title": ""
    }
   },
   "outputs": [],
   "source": [
    "# Configuration\n",
    "storage_account_name = \"storagessample\"\n",
    "container_name = \"intermediatedata\"\n",
    "file_name = \"car_prices.parquet\"  # This should match the path where ADF copied the Parquet file\n",
    "\n",
    "# Using Storage Account Key\n",
    "storage_account_key = \"ogqJCBwZUE5xb1H6bmjvYH3xSQeULXfqf8EwbfRj3UP8JLHeVPMNbosEUPrQw3YmZmhBqjdN9u8p+ASthYAyMg==\"\n",
    "file_location = f\"wasbs://{container_name}@{storage_account_name}.blob.core.windows.net/{file_name}\"\n",
    "\n",
    "# Set Spark configuration for accessing the storage account\n",
    "spark.conf.set(f\"fs.azure.account.key.{storage_account_name}.blob.core.windows.net\", storage_account_key)\n",
    "\n",
    "# Read the Parquet file into DataFrame\n",
    "df = spark.read.parquet(file_location)\n",
    "display(df)"
   ]
  },
  {
   "cell_type": "code",
   "execution_count": 0,
   "metadata": {
    "application/vnd.databricks.v1+cell": {
     "cellMetadata": {
      "byteLimit": 2048000,
      "rowLimit": 10000
     },
     "inputWidgets": {},
     "nuid": "0c23d7c3-0f8e-4f82-a31a-358da5176420",
     "showTitle": false,
     "title": ""
    }
   },
   "outputs": [],
   "source": [
    "# Create a temporary view\n",
    "temp_table_name = \"car_prices_parquet\"\n",
    "df.createOrReplaceTempView(temp_table_name)"
   ]
  },
  {
   "cell_type": "code",
   "execution_count": 0,
   "metadata": {
    "application/vnd.databricks.v1+cell": {
     "cellMetadata": {
      "byteLimit": 2048000,
      "implicitDf": true,
      "rowLimit": 10000
     },
     "inputWidgets": {},
     "nuid": "2b923e74-5c18-40d4-9827-ff427650a770",
     "showTitle": false,
     "title": ""
    }
   },
   "outputs": [],
   "source": [
    "%sql\n",
    "--Query the created temp table in a SQL cell\n",
    "\n",
    "SELECT * FROM car_prices_parquet"
   ]
  },
  {
   "cell_type": "code",
   "execution_count": 0,
   "metadata": {
    "application/vnd.databricks.v1+cell": {
     "cellMetadata": {
      "byteLimit": 2048000,
      "rowLimit": 10000
     },
     "inputWidgets": {},
     "nuid": "369a7856-52ef-4700-830c-574733c1fabc",
     "showTitle": false,
     "title": ""
    }
   },
   "outputs": [],
   "source": [
    "# Save DataFrame as a permanent table\n",
    "permanent_table_name = \"car_prices_parquettn15\"\n",
    "df.write.format(\"parquet\").mode(\"overwrite\").saveAsTable(permanent_table_name)"
   ]
  },
  {
   "cell_type": "code",
   "execution_count": 0,
   "metadata": {
    "application/vnd.databricks.v1+cell": {
     "cellMetadata": {
      "byteLimit": 2048000,
      "rowLimit": 10000
     },
     "inputWidgets": {},
     "nuid": "d48b483a-330d-41ab-aa2e-c953fc5f8246",
     "showTitle": false,
     "title": ""
    }
   },
   "outputs": [],
   "source": [
    "# Query the permanent table\n",
    "df1 = spark.sql(\"SELECT * FROM car_prices_parquettn15\")\n",
    "display(df1)"
   ]
  },
  {
   "cell_type": "code",
   "execution_count": 0,
   "metadata": {
    "application/vnd.databricks.v1+cell": {
     "cellMetadata": {
      "byteLimit": 2048000,
      "rowLimit": 10000
     },
     "inputWidgets": {},
     "nuid": "cbe61208-c67a-4020-83bf-9e1a05b54417",
     "showTitle": false,
     "title": ""
    }
   },
   "outputs": [],
   "source": [
    "from pyspark.sql.functions import substring\n",
    "\n",
    "# Extract the part before the timezone information\n",
    "df1 = df1.withColumn(\"saledate2\", substring(df1[\"saledate\"], 5, 20))\n",
    "\n",
    "# Display the DataFrame\n",
    "display(df1)"
   ]
  },
  {
   "cell_type": "code",
   "execution_count": 0,
   "metadata": {
    "application/vnd.databricks.v1+cell": {
     "cellMetadata": {
      "byteLimit": 2048000,
      "rowLimit": 10000
     },
     "inputWidgets": {},
     "nuid": "b39bb2ea-cf2c-4a6c-9def-5bd20596c084",
     "showTitle": false,
     "title": ""
    }
   },
   "outputs": [],
   "source": [
    "from pyspark.sql.functions import to_date\n",
    "\n",
    "# Convert the saledate column from string format to date format\n",
    "df1 = df1.withColumn(\"saledate3\", to_date(df1[\"saledate2\"], \"MMM dd yyyy HH:mm:ss\"))\n",
    "\n",
    "# Display the DataFrame\n",
    "display(df1)"
   ]
  },
  {
   "cell_type": "code",
   "execution_count": 0,
   "metadata": {
    "application/vnd.databricks.v1+cell": {
     "cellMetadata": {
      "byteLimit": 2048000,
      "rowLimit": 10000
     },
     "inputWidgets": {},
     "nuid": "f25832f0-5da7-40fd-97f7-7545263615df",
     "showTitle": false,
     "title": ""
    }
   },
   "outputs": [],
   "source": [
    "from pyspark.sql.functions import date_format\n",
    "\n",
    "# Add a new column YearMonth in format yyyy-MM\n",
    "df1 = df1.withColumn(\"YearMonth\", date_format(df1[\"saledate3\"], \"yyyy-MM\"))\n",
    "\n",
    "# Display the DataFrame\n",
    "display(df1)"
   ]
  },
  {
   "cell_type": "code",
   "execution_count": 0,
   "metadata": {
    "application/vnd.databricks.v1+cell": {
     "cellMetadata": {
      "byteLimit": 2048000,
      "rowLimit": 10000
     },
     "inputWidgets": {},
     "nuid": "494b15d4-1fa1-40ed-b26d-3e9c66aec5c9",
     "showTitle": false,
     "title": ""
    }
   },
   "outputs": [],
   "source": [
    "from pyspark.sql.functions import col\n",
    "df1 = df1.withColumn('year', col('year').cast('int'))\n",
    "df1 = df1.withColumn('condition', col('condition').cast('int'))\n",
    "df1 = df1.withColumn('odometer', col('odometer').cast('int'))\n",
    "df1 = df1.withColumn('mmr', col('mmr').cast('int'))\n",
    "df1 = df1.withColumn('sellingprice', col('sellingprice').cast('int'))\n",
    "display(df1)"
   ]
  },
  {
   "cell_type": "code",
   "execution_count": 0,
   "metadata": {
    "application/vnd.databricks.v1+cell": {
     "cellMetadata": {
      "byteLimit": 2048000,
      "rowLimit": 10000
     },
     "inputWidgets": {},
     "nuid": "077970ed-3b58-491e-985f-34a4217c636b",
     "showTitle": false,
     "title": ""
    }
   },
   "outputs": [
    {
     "output_type": "stream",
     "name": "stdout",
     "output_type": "stream",
     "text": [
      "Column 'make': 10301 null values\nColumn 'model': 10399 null values\nColumn 'trim': 10651 null values\nColumn 'body': 13195 null values\nColumn 'transmission': 65352 null values\nColumn 'vin': 4 null values\nColumn 'condition': 11820 null values\nColumn 'odometer': 94 null values\nColumn 'color': 749 null values\nColumn 'interior': 749 null values\nColumn 'mmr': 38 null values\nColumn 'sellingprice': 12 null values\nColumn 'saledate': 12 null values\nColumn 'saledate2': 12 null values\nColumn 'saledate3': 38 null values\nColumn 'YearMonth': 38 null values\n"
     ]
    }
   ],
   "source": [
    "from pyspark.sql.functions import col\n",
    "\n",
    "# Initialize an empty dictionary to store null counts\n",
    "NULL_COUNTS = {}\n",
    "\n",
    "# Iterate over each column\n",
    "for col_name in df1.columns:\n",
    "    # Calculate the count of null values for the current column\n",
    "    NULL_COUNTSvar = df1.where(col(col_name).isNull()).count()\n",
    "    \n",
    "    # If null values are found, add to NULL_COUNTS dictionary\n",
    "    if NULL_COUNTSvar > 0:\n",
    "        NULL_COUNTS[col_name] = NULL_COUNTSvar\n",
    "\n",
    "# Print null counts for each column\n",
    "for col_name, count in NULL_COUNTS.items():\n",
    "    print(f\"Column '{col_name}': {count} null values\")"
   ]
  },
  {
   "cell_type": "code",
   "execution_count": 0,
   "metadata": {
    "application/vnd.databricks.v1+cell": {
     "cellMetadata": {
      "byteLimit": 2048000,
      "rowLimit": 10000
     },
     "inputWidgets": {},
     "nuid": "b94d41f8-054c-4756-9542-3cddf41ebefe",
     "showTitle": false,
     "title": ""
    }
   },
   "outputs": [],
   "source": [
    "from pyspark.sql.functions import when, sum,col,avg\n",
    "\n",
    "# Replace null values in 'sellingprice' column with zero\n",
    "df1 = df1.withColumn(\"sellingprice\", when(df1[\"sellingprice\"].isNull(), 0).otherwise(df1[\"sellingprice\"]))\n",
    "df1 = df1.withColumn(\"YearMonth\", when(df1[\"YearMonth\"].isNull(), '999912').otherwise(df1[\"YearMonth\"]))\n",
    "df1 = df1.withColumn(\"make\", when(df1[\"make\"].isNull(), 'XYZ').otherwise(df1[\"make\"]))\n",
    "df1 = df1.withColumn(\"color\", when(df1[\"color\"].isNull(), 'NA').otherwise(df1[\"color\"]))\n",
    "df1 = df1.withColumn(\"body\", when(df1[\"body\"].isNull(), 'na').otherwise(df1[\"body\"]))\n",
    "df1 = df1.withColumn(\"condition\", when(df1[\"condition\"].isNull(), '0').otherwise(df1[\"condition\"]))\n",
    "df1 = df1.withColumn('sellingprice', col('sellingprice').cast('double'))\n",
    "# Group by 'make' and 'YearMonth', and aggregate the sum of 'sellingprice'\n",
    "df_monthly = df1.groupBy(\"make\", \"YearMonth\",\"color\",\"body\",\"condition\" ).agg(sum(\"sellingprice\").alias(\"total_sellingprice\"),avg(\"mmr\").alias(\"mmr\"))\n",
    "\n",
    "# Display the resulting DataFrame\n",
    "display(df_monthly)"
   ]
  },
  {
   "cell_type": "code",
   "execution_count": 0,
   "metadata": {
    "application/vnd.databricks.v1+cell": {
     "cellMetadata": {
      "byteLimit": 2048000,
      "rowLimit": 10000
     },
     "inputWidgets": {},
     "nuid": "0bf8c3e5-9d2f-441f-ad30-dde71a6e7373",
     "showTitle": false,
     "title": ""
    }
   },
   "outputs": [],
   "source": [
    "# Required import\n",
    "from pyspark.sql import functions as F\n",
    "\n",
    "# Group by and aggregate to create DimCar DataFrame\n",
    "df_dimcar1 = df1.groupBy(\"vin\").agg(\n",
    "    F.first(\"make\").alias(\"make\"),\n",
    "    F.first(\"model\").alias(\"model\"),\n",
    "    F.first(\"color\").alias(\"color\"),\n",
    "    F.first(\"body\").alias(\"body\")\n",
    ")\n",
    "\n",
    "# Display the DimCar DataFrame\n",
    "display(df_dimcar1)"
   ]
  },
  {
   "cell_type": "code",
   "execution_count": 0,
   "metadata": {
    "application/vnd.databricks.v1+cell": {
     "cellMetadata": {
      "byteLimit": 2048000,
      "rowLimit": 10000
     },
     "inputWidgets": {},
     "nuid": "e33a5992-eb2a-4942-88ca-61699e094613",
     "showTitle": false,
     "title": ""
    }
   },
   "outputs": [],
   "source": [
    "# Required import\n",
    "from pyspark.sql import functions as F\n",
    "\n",
    "# Create FactSales DataFrame\n",
    "df_factsales = df1.groupBy(\"vin\", \"YearMonth\").agg(\n",
    "    F.sum(\"sellingprice\").alias(\"total_selling_price\"),\n",
    "    F.avg(\"mmr\").alias(\"mmr\")\n",
    ")\n",
    "\n",
    "display(df_factsales)"
   ]
  },
  {
   "cell_type": "code",
   "execution_count": 0,
   "metadata": {
    "application/vnd.databricks.v1+cell": {
     "cellMetadata": {
      "byteLimit": 2048000,
      "rowLimit": 10000
     },
     "inputWidgets": {},
     "nuid": "25b48c08-5837-4c60-b183-b11188b726ff",
     "showTitle": false,
     "title": ""
    }
   },
   "outputs": [
    {
     "output_type": "stream",
     "name": "stdout",
     "output_type": "stream",
     "text": [
      "Error executing command: An error occurred while calling o1004.execute.\n: com.microsoft.sqlserver.jdbc.SQLServerException: The constraint 'PK__DimCar__4C9A0DB3813BDEBE' is being referenced by table 'FactSales', foreign key constraint 'FK__FactSales__car_i__5EBF139D'.\n\tat com.microsoft.sqlserver.jdbc.SQLServerException.makeFromDatabaseError(SQLServerException.java:262)\n\tat com.microsoft.sqlserver.jdbc.SQLServerStatement.getNextResult(SQLServerStatement.java:1632)\n\tat com.microsoft.sqlserver.jdbc.SQLServerStatement.doExecuteStatement(SQLServerStatement.java:872)\n\tat com.microsoft.sqlserver.jdbc.SQLServerStatement$StmtExecCmd.doExecute(SQLServerStatement.java:767)\n\tat com.microsoft.sqlserver.jdbc.TDSCommand.execute(IOBuffer.java:7418)\n\tat com.microsoft.sqlserver.jdbc.SQLServerConnection.executeCommand(SQLServerConnection.java:3272)\n\tat com.microsoft.sqlserver.jdbc.SQLServerStatement.executeCommand(SQLServerStatement.java:247)\n\tat com.microsoft.sqlserver.jdbc.SQLServerStatement.executeStatement(SQLServerStatement.java:222)\n\tat com.microsoft.sqlserver.jdbc.SQLServerStatement.execute(SQLServerStatement.java:743)\n\tat sun.reflect.NativeMethodAccessorImpl.invoke0(Native Method)\n\tat sun.reflect.NativeMethodAccessorImpl.invoke(NativeMethodAccessorImpl.java:62)\n\tat sun.reflect.DelegatingMethodAccessorImpl.invoke(DelegatingMethodAccessorImpl.java:43)\n\tat java.lang.reflect.Method.invoke(Method.java:498)\n\tat py4j.reflection.MethodInvoker.invoke(MethodInvoker.java:244)\n\tat py4j.reflection.ReflectionEngine.invoke(ReflectionEngine.java:380)\n\tat py4j.Gateway.invoke(Gateway.java:306)\n\tat py4j.commands.AbstractCommand.invokeMethod(AbstractCommand.java:132)\n\tat py4j.commands.CallCommand.execute(CallCommand.java:79)\n\tat py4j.ClientServerConnection.waitForCommands(ClientServerConnection.java:195)\n\tat py4j.ClientServerConnection.run(ClientServerConnection.java:115)\n\tat java.lang.Thread.run(Thread.java:750)\n\nError executing command: An error occurred while calling o1007.execute.\n: com.microsoft.sqlserver.jdbc.SQLServerException: 'PK__FactSale__17A06D843390D48D' is not a constraint.\n\tat com.microsoft.sqlserver.jdbc.SQLServerException.makeFromDatabaseError(SQLServerException.java:262)\n\tat com.microsoft.sqlserver.jdbc.SQLServerStatement.getNextResult(SQLServerStatement.java:1632)\n\tat com.microsoft.sqlserver.jdbc.SQLServerStatement.doExecuteStatement(SQLServerStatement.java:872)\n\tat com.microsoft.sqlserver.jdbc.SQLServerStatement$StmtExecCmd.doExecute(SQLServerStatement.java:767)\n\tat com.microsoft.sqlserver.jdbc.TDSCommand.execute(IOBuffer.java:7418)\n\tat com.microsoft.sqlserver.jdbc.SQLServerConnection.executeCommand(SQLServerConnection.java:3272)\n\tat com.microsoft.sqlserver.jdbc.SQLServerStatement.executeCommand(SQLServerStatement.java:247)\n\tat com.microsoft.sqlserver.jdbc.SQLServerStatement.executeStatement(SQLServerStatement.java:222)\n\tat com.microsoft.sqlserver.jdbc.SQLServerStatement.execute(SQLServerStatement.java:743)\n\tat sun.reflect.NativeMethodAccessorImpl.invoke0(Native Method)\n\tat sun.reflect.NativeMethodAccessorImpl.invoke(NativeMethodAccessorImpl.java:62)\n\tat sun.reflect.DelegatingMethodAccessorImpl.invoke(DelegatingMethodAccessorImpl.java:43)\n\tat java.lang.reflect.Method.invoke(Method.java:498)\n\tat py4j.reflection.MethodInvoker.invoke(MethodInvoker.java:244)\n\tat py4j.reflection.ReflectionEngine.invoke(ReflectionEngine.java:380)\n\tat py4j.Gateway.invoke(Gateway.java:306)\n\tat py4j.commands.AbstractCommand.invokeMethod(AbstractCommand.java:132)\n\tat py4j.commands.CallCommand.execute(CallCommand.java:79)\n\tat py4j.ClientServerConnection.waitForCommands(ClientServerConnection.java:195)\n\tat py4j.ClientServerConnection.run(ClientServerConnection.java:115)\n\tat java.lang.Thread.run(Thread.java:750)\n\n"
     ]
    }
   ],
   "source": [
    "from pyspark.sql import SparkSession\n",
    "\n",
    "# Assuming spark is your SparkSession\n",
    "jdbc_url = \"jdbc:sqlserver://adiserver1234.database.windows.net:1433;database=SQLDatabase\"\n",
    "connection_properties = {\n",
    "    \"user\": \"MyBoiAdi\",\n",
    "    \"password\": \"Thefe23$\",\n",
    "    \"driver\": \"com.microsoft.sqlserver.jdbc.SQLServerDriver\"\n",
    "}\n",
    "\n",
    "# Use JDBC to execute database-specific commands\n",
    "def execute_sql_server_command(command):\n",
    "    try:\n",
    "        db_connection = spark._jvm.java.sql.DriverManager.getConnection(jdbc_url, connection_properties[\"user\"], connection_properties[\"password\"])\n",
    "        statement = db_connection.createStatement()\n",
    "        statement.execute(command)\n",
    "        statement.close()\n",
    "        db_connection.close()\n",
    "    except Exception as e:\n",
    "        print(f\"Error executing command: {e}\")\n",
    "\n",
    "# Example commands to drop FOREIGN KEY constraints that reference dbo.DimCar\n",
    "# Replace 'FOREIGN_KEY_CONSTRAINT_NAME' with the actual name of the constraint\n",
    "# and 'REFERENCING_TABLE' with the name of the table that has the FOREIGN KEY constraint.\n",
    "execute_sql_server_command(\"ALTER TABLE dbo.DimCar DROP CONSTRAINT PK__DimCar__4C9A0DB3813BDEBE\")       \n",
    "\n",
    "# Drop FOREIGN KEY constraint\n",
    "execute_sql_server_command(\"ALTER TABLE dbo.FactSales DROP CONSTRAINT PK__FactSale__17A06D843390D48D\")  \n",
    "execute_sql_server_command(\"ALTER TABLE dbo.FactSales DROP CONSTRAINT FK__FactSales__car_i__5EBF139D\")  \n",
    "\n",
    "# Note: There's no need to drop the table in SQL Server before overwriting it with Spark, as the .mode(\"overwrite\") option in the DataFrame write operation will handle this.\n",
    "\n",
    "# Example: Writing a DataFrame to SQL Server\n",
    "df_dimcar1.write \\\n",
    "    .format(\"jdbc\") \\\n",
    "    .option(\"url\", jdbc_url) \\\n",
    "    .option(\"dbtable\", \"dbo.DimCar\") \\\n",
    "    .option(\"user\", \"MyBoiAdi\") \\\n",
    "    .option(\"password\", \"Thefe23$\") \\\n",
    "    .mode(\"overwrite\") \\\n",
    "    .save()\n",
    "\n",
    "df_factsales.write \\\n",
    "    .format(\"jdbc\") \\\n",
    "    .option(\"url\", jdbc_url) \\\n",
    "    .option(\"dbtable\", \"dbo.FactSales\") \\\n",
    "    .option(\"user\", \"MyBoiAdi\") \\\n",
    "    .option(\"password\", \"Thefe23$\") \\\n",
    "    .mode(\"overwrite\") \\\n",
    "    .save()"
   ]
  },
  {
   "cell_type": "code",
   "execution_count": 0,
   "metadata": {
    "application/vnd.databricks.v1+cell": {
     "cellMetadata": {
      "byteLimit": 2048000,
      "rowLimit": 10000
     },
     "inputWidgets": {},
     "nuid": "266591f1-721c-4b97-bf36-3e85dfbdddd5",
     "showTitle": false,
     "title": ""
    }
   },
   "outputs": [],
   "source": [
    "df_monthly.createOrReplaceTempView('df_monthly')\n",
    "display(df_monthly)"
   ]
  },
  {
   "cell_type": "code",
   "execution_count": 0,
   "metadata": {
    "application/vnd.databricks.v1+cell": {
     "cellMetadata": {
      "byteLimit": 2048000,
      "rowLimit": 10000
     },
     "inputWidgets": {},
     "nuid": "83c63f12-87a0-4222-91fd-8e1e96b864ef",
     "showTitle": false,
     "title": ""
    }
   },
   "outputs": [],
   "source": [
    "permanent_table_name = \"sales_activity_monthlyn\"\n",
    "df_monthly.write.format(\"parquet\").mode(\"overwrite\").saveAsTable(permanent_table_name)"
   ]
  },
  {
   "cell_type": "code",
   "execution_count": 0,
   "metadata": {
    "application/vnd.databricks.v1+cell": {
     "cellMetadata": {
      "byteLimit": 2048000,
      "rowLimit": 10000
     },
     "inputWidgets": {},
     "nuid": "3265fc3b-e25e-474f-a450-46c7d66bcfce",
     "showTitle": false,
     "title": ""
    }
   },
   "outputs": [],
   "source": [
    "display(spark.sql(\"SELECT * from sales_activity_monthlyn15\"))"
   ]
  },
  {
   "cell_type": "code",
   "execution_count": 0,
   "metadata": {
    "application/vnd.databricks.v1+cell": {
     "cellMetadata": {
      "byteLimit": 2048000,
      "rowLimit": 10000
     },
     "inputWidgets": {},
     "nuid": "1a06edc3-ede8-4195-8beb-caa28740455c",
     "showTitle": false,
     "title": ""
    }
   },
   "outputs": [],
   "source": [
    "df_update = df_monthly.alias('df_update')\n",
    "df_update = df_update.where(\"YearMonth like '2015%'\")\n",
    "df_update = df_update.withColumn(\"total_sellingprice\", when(col(\"make\") == 'Lexus', 0).otherwise(col(\"total_sellingprice\")))\n",
    "display(df_update)\n",
    "df_update.createOrReplaceTempView(\"df_update\")"
   ]
  },
  {
   "cell_type": "code",
   "execution_count": 0,
   "metadata": {
    "application/vnd.databricks.v1+cell": {
     "cellMetadata": {
      "byteLimit": 2048000,
      "implicitDf": true,
      "rowLimit": 10000
     },
     "inputWidgets": {},
     "nuid": "5ca8150d-6da2-4cfe-9786-044b4dc334fb",
     "showTitle": false,
     "title": ""
    }
   },
   "outputs": [
    {
     "output_type": "display_data",
     "data": {
      "text/html": [
       "<style scoped>\n",
       "  .table-result-container {\n",
       "    max-height: 300px;\n",
       "    overflow: auto;\n",
       "  }\n",
       "  table, th, td {\n",
       "    border: 1px solid black;\n",
       "    border-collapse: collapse;\n",
       "  }\n",
       "  th, td {\n",
       "    padding: 5px;\n",
       "  }\n",
       "  th {\n",
       "    text-align: left;\n",
       "  }\n",
       "</style><div class='table-result-container'><table class='table-result'><thead style='background-color: white'><tr><th>make</th><th>YearMonth</th><th>color</th><th>body</th><th>condition</th><th>total_sellingprice</th><th>mmr</th></tr></thead><tbody><tr><td>Infiniti</td><td>2015-03</td><td>gray</td><td>G Sedan</td><td>44</td><td>515100.0</td><td>20760.416666666668</td></tr><tr><td>Chrysler</td><td>2015-03</td><td>black</td><td>Minivan</td><td>4</td><td>620300.0</td><td>19359.375</td></tr><tr><td>Ford</td><td>2015-03</td><td>—</td><td>SUV</td><td>44</td><td>766600.0</td><td>21477.85714285714</td></tr><tr><td>Nissan</td><td>2015-03</td><td>white</td><td>Sedan</td><td>44</td><td>745350.0</td><td>13975.961538461539</td></tr><tr><td>Nissan</td><td>2015-03</td><td>white</td><td>Sedan</td><td>41</td><td>514700.0</td><td>14346.42857142857</td></tr><tr><td>Ford</td><td>2015-03</td><td>white</td><td>SUV</td><td>49</td><td>527900.0</td><td>23243.18181818182</td></tr><tr><td>Chevrolet</td><td>2015-03</td><td>white</td><td>Sedan</td><td>4</td><td>1036400.0</td><td>14197.535211267606</td></tr><tr><td>Chevrolet</td><td>2015-03</td><td>gray</td><td>Sedan</td><td>4</td><td>1138150.0</td><td>14453.846153846154</td></tr><tr><td>Chrysler</td><td>2015-03</td><td>silver</td><td>Minivan</td><td>4</td><td>508400.0</td><td>19125.925925925927</td></tr><tr><td>Ford</td><td>2015-03</td><td>black</td><td>SuperCrew</td><td>5</td><td>716900.0</td><td>32209.090909090908</td></tr><tr><td>Jeep</td><td>2015-03</td><td>black</td><td>SUV</td><td>5</td><td>730400.0</td><td>26275.0</td></tr><tr><td>Ford</td><td>2015-03</td><td>black</td><td>SUV</td><td>43</td><td>531400.0</td><td>23209.090909090908</td></tr><tr><td>Ford</td><td>2015-03</td><td>black</td><td>SUV</td><td>44</td><td>718600.0</td><td>21255.303030303032</td></tr><tr><td>Nissan</td><td>2015-03</td><td>black</td><td>Sedan</td><td>42</td><td>526050.0</td><td>13765.131578947368</td></tr><tr><td>Chevrolet</td><td>2015-03</td><td>red</td><td>Sedan</td><td>4</td><td>623500.0</td><td>14863.414634146342</td></tr><tr><td>Ford</td><td>2015-03</td><td>—</td><td>SUV</td><td>41</td><td>545600.0</td><td>21334.0</td></tr><tr><td>Chrysler</td><td>2015-03</td><td>white</td><td>Minivan</td><td>4</td><td>707750.0</td><td>19008.108108108107</td></tr><tr><td>Ford</td><td>2015-03</td><td>white</td><td>SUV</td><td>42</td><td>593400.0</td><td>20042.241379310344</td></tr><tr><td>Ford</td><td>2015-03</td><td>black</td><td>SUV</td><td>49</td><td>509850.0</td><td>24827.5</td></tr><tr><td>Ford</td><td>2015-03</td><td>white</td><td>SuperCrew</td><td>5</td><td>552000.0</td><td>31700.0</td></tr><tr><td>Chevrolet</td><td>2015-03</td><td>silver</td><td>Sedan</td><td>4</td><td>988600.0</td><td>14896.59090909091</td></tr><tr><td>Ford</td><td>2015-03</td><td>white</td><td>SUV</td><td>46</td><td>559450.0</td><td>20934.615384615383</td></tr><tr><td>Nissan</td><td>2015-03</td><td>white</td><td>Sedan</td><td>42</td><td>552901.0</td><td>12976.829268292682</td></tr><tr><td>Chevrolet</td><td>2015-03</td><td>black</td><td>Sedan</td><td>4</td><td>1303950.0</td><td>15156.547619047618</td></tr><tr><td>Ford</td><td>2015-03</td><td>—</td><td>SUV</td><td>48</td><td>588200.0</td><td>22882.0</td></tr><tr><td>Ford</td><td>2015-03</td><td>—</td><td>SUV</td><td>49</td><td>567800.0</td><td>22878.0</td></tr><tr><td>Ford</td><td>2015-03</td><td>white</td><td>SUV</td><td>44</td><td>614500.0</td><td>19913.709677419356</td></tr><tr><td>Ford</td><td>2015-03</td><td>—</td><td>SUV</td><td>43</td><td>614900.0</td><td>21203.44827586207</td></tr><tr><td>Ford</td><td>2015-03</td><td>gray</td><td>SUV</td><td>43</td><td>792700.0</td><td>20597.4358974359</td></tr><tr><td>Ford</td><td>2015-03</td><td>white</td><td>SUV</td><td>43</td><td>679750.0</td><td>20321.969696969696</td></tr><tr><td>Ford</td><td>2015-03</td><td>silver</td><td>SUV</td><td>44</td><td>604550.0</td><td>20867.241379310344</td></tr></tbody></table></div>"
      ]
     },
     "metadata": {
      "application/vnd.databricks.v1+output": {
       "addedWidgets": {},
       "aggData": [],
       "aggError": "",
       "aggOverflow": false,
       "aggSchema": [],
       "aggSeriesLimitReached": false,
       "aggType": "",
       "arguments": {},
       "columnCustomDisplayInfos": {},
       "data": [
        [
         "Infiniti",
         "2015-03",
         "gray",
         "G Sedan",
         "44",
         515100.0,
         20760.416666666668
        ],
        [
         "Chrysler",
         "2015-03",
         "black",
         "Minivan",
         "4",
         620300.0,
         19359.375
        ],
        [
         "Ford",
         "2015-03",
         "—",
         "SUV",
         "44",
         766600.0,
         21477.85714285714
        ],
        [
         "Nissan",
         "2015-03",
         "white",
         "Sedan",
         "44",
         745350.0,
         13975.961538461539
        ],
        [
         "Nissan",
         "2015-03",
         "white",
         "Sedan",
         "41",
         514700.0,
         14346.42857142857
        ],
        [
         "Ford",
         "2015-03",
         "white",
         "SUV",
         "49",
         527900.0,
         23243.18181818182
        ],
        [
         "Chevrolet",
         "2015-03",
         "white",
         "Sedan",
         "4",
         1036400.0,
         14197.535211267606
        ],
        [
         "Chevrolet",
         "2015-03",
         "gray",
         "Sedan",
         "4",
         1138150.0,
         14453.846153846154
        ],
        [
         "Chrysler",
         "2015-03",
         "silver",
         "Minivan",
         "4",
         508400.0,
         19125.925925925927
        ],
        [
         "Ford",
         "2015-03",
         "black",
         "SuperCrew",
         "5",
         716900.0,
         32209.090909090908
        ],
        [
         "Jeep",
         "2015-03",
         "black",
         "SUV",
         "5",
         730400.0,
         26275.0
        ],
        [
         "Ford",
         "2015-03",
         "black",
         "SUV",
         "43",
         531400.0,
         23209.090909090908
        ],
        [
         "Ford",
         "2015-03",
         "black",
         "SUV",
         "44",
         718600.0,
         21255.303030303032
        ],
        [
         "Nissan",
         "2015-03",
         "black",
         "Sedan",
         "42",
         526050.0,
         13765.131578947368
        ],
        [
         "Chevrolet",
         "2015-03",
         "red",
         "Sedan",
         "4",
         623500.0,
         14863.414634146342
        ],
        [
         "Ford",
         "2015-03",
         "—",
         "SUV",
         "41",
         545600.0,
         21334.0
        ],
        [
         "Chrysler",
         "2015-03",
         "white",
         "Minivan",
         "4",
         707750.0,
         19008.108108108107
        ],
        [
         "Ford",
         "2015-03",
         "white",
         "SUV",
         "42",
         593400.0,
         20042.241379310344
        ],
        [
         "Ford",
         "2015-03",
         "black",
         "SUV",
         "49",
         509850.0,
         24827.5
        ],
        [
         "Ford",
         "2015-03",
         "white",
         "SuperCrew",
         "5",
         552000.0,
         31700.0
        ],
        [
         "Chevrolet",
         "2015-03",
         "silver",
         "Sedan",
         "4",
         988600.0,
         14896.59090909091
        ],
        [
         "Ford",
         "2015-03",
         "white",
         "SUV",
         "46",
         559450.0,
         20934.615384615383
        ],
        [
         "Nissan",
         "2015-03",
         "white",
         "Sedan",
         "42",
         552901.0,
         12976.829268292682
        ],
        [
         "Chevrolet",
         "2015-03",
         "black",
         "Sedan",
         "4",
         1303950.0,
         15156.547619047618
        ],
        [
         "Ford",
         "2015-03",
         "—",
         "SUV",
         "48",
         588200.0,
         22882.0
        ],
        [
         "Ford",
         "2015-03",
         "—",
         "SUV",
         "49",
         567800.0,
         22878.0
        ],
        [
         "Ford",
         "2015-03",
         "white",
         "SUV",
         "44",
         614500.0,
         19913.709677419356
        ],
        [
         "Ford",
         "2015-03",
         "—",
         "SUV",
         "43",
         614900.0,
         21203.44827586207
        ],
        [
         "Ford",
         "2015-03",
         "gray",
         "SUV",
         "43",
         792700.0,
         20597.4358974359
        ],
        [
         "Ford",
         "2015-03",
         "white",
         "SUV",
         "43",
         679750.0,
         20321.969696969696
        ],
        [
         "Ford",
         "2015-03",
         "silver",
         "SUV",
         "44",
         604550.0,
         20867.241379310344
        ]
       ],
       "datasetInfos": [],
       "dbfsResultPath": null,
       "isJsonSchema": true,
       "metadata": {},
       "overflow": false,
       "plotOptions": {
        "customPlotOptions": {},
        "displayType": "table",
        "pivotAggregation": null,
        "pivotColumns": null,
        "xColumns": null,
        "yColumns": null
       },
       "removedWidgets": [],
       "schema": [
        {
         "metadata": "{}",
         "name": "make",
         "type": "\"string\""
        },
        {
         "metadata": "{}",
         "name": "YearMonth",
         "type": "\"string\""
        },
        {
         "metadata": "{}",
         "name": "color",
         "type": "\"string\""
        },
        {
         "metadata": "{}",
         "name": "body",
         "type": "\"string\""
        },
        {
         "metadata": "{}",
         "name": "condition",
         "type": "\"string\""
        },
        {
         "metadata": "{}",
         "name": "total_sellingprice",
         "type": "\"double\""
        },
        {
         "metadata": "{}",
         "name": "mmr",
         "type": "\"double\""
        }
       ],
       "type": "table"
      }
     },
     "output_type": "display_data"
    }
   ],
   "source": [
    "%sql\n",
    "CONVERT TO DELTA sales_activity_monthlyn15;\n",
    "\n",
    "SELECT * FROM sales_activity_monthlyn15\n",
    "WHERE YearMonth like '2015-03' and total_sellingprice >500000 ;"
   ]
  },
  {
   "cell_type": "code",
   "execution_count": 0,
   "metadata": {
    "application/vnd.databricks.v1+cell": {
     "cellMetadata": {
      "byteLimit": 2048000,
      "rowLimit": 10000
     },
     "inputWidgets": {},
     "nuid": "bfdeb860-dc5d-48dc-8b0a-fcd4c630cec8",
     "showTitle": false,
     "title": ""
    }
   },
   "outputs": [],
   "source": [
    "# Configuration\n",
    "storage_account_name = \"storagessample\"\n",
    "container_name = \"intermediatedata\"\n",
    "newoutput_directory = f\"wasbs://{container_name}@{storage_account_name}.blob.core.windows.net/new_delta_tablesfinal/\"\n",
    "\n",
    "# Save DataFrame as a Delta table to external location\n",
    "permanent_table_locationfinal = newoutput_directory + \"sales_activity_monthlyn15\"\n",
    "\n",
    "# Assuming df_monthly is the transformed DataFrame\n",
    "df_monthly.write.format(\"delta\").mode(\"overwrite\").save(permanent_table_locationfinal)"
   ]
  },
  {
   "cell_type": "code",
   "execution_count": 0,
   "metadata": {
    "application/vnd.databricks.v1+cell": {
     "cellMetadata": {},
     "inputWidgets": {},
     "nuid": "767fe052-3694-4bcf-ae11-838bd13f38d3",
     "showTitle": false,
     "title": ""
    }
   },
   "outputs": [],
   "source": []
  }
 ],
 "metadata": {
  "application/vnd.databricks.v1+notebook": {
   "dashboards": [],
   "environmentMetadata": null,
   "language": "python",
   "notebookMetadata": {
    "mostRecentlyExecutedCommandWithImplicitDF": {
     "commandId": 949748484812517,
     "dataframes": [
      "_sqldf"
     ]
    },
    "pythonIndentUnit": 4
   },
   "notebookName": "Transformation_withFactandDimensionTables",
   "widgets": {}
  }
 },
 "nbformat": 4,
 "nbformat_minor": 0
}
